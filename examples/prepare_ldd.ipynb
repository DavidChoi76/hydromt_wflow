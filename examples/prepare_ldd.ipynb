{
 "cells": [
  {
   "attachments": {},
   "cell_type": "markdown",
   "metadata": {},
   "source": [
    "## Prepare flow directions and related data from a DEM"
   ]
  },
  {
   "attachments": {},
   "cell_type": "markdown",
   "metadata": {},
   "source": [
    "With HydroMT-Wflow, a user can choose to build a model in a geographic or projected coordinate system from an input Digital Elevation Model (DEM) and Flow Direction (flwdir) dataset.\n",
    "\n",
    "While DEM data are often available, this is not the always the case for the flow directions. In the plugin, we made the choice to build a Wflow model directly from user provided DEM and flwdir datasets rather than reprojecting a DEM and/or deriving flwdir on the fly. This is because there are a lot of available techniques to derive flow directions and we want the user to be sure the flow directions matches the terrain and user expectations.\n",
    "\n",
    "Because of this, we prefer to provide this notebook as a possible pre-processing step before calling a hydromt build wflow command. We will do this using the different [flow directions methods from HydroMT](https://deltares.github.io/hydromt/latest/api.html#flow-direction-methods) and [PyFlwDir](https://deltares.github.io/pyflwdir/latest/index.html)"
   ]
  },
  {
   "attachments": {},
   "cell_type": "markdown",
   "metadata": {},
   "source": [
    "### Load dependencies"
   ]
  },
  {
   "cell_type": "code",
   "execution_count": null,
   "metadata": {},
   "outputs": [],
   "source": [
    "import os\n",
    "import xarray as xr\n",
    "import numpy as np\n",
    "import geopandas as gpd\n",
    "# pyflwdir\n",
    "import pyflwdir\n",
    "# hydromt\n",
    "from hydromt import DataCatalog, flw\n",
    "#plot\n",
    "import matplotlib.pyplot as plt\n",
    "from matplotlib import cm, colors\n",
    "import cartopy.crs as ccrs"
   ]
  },
  {
   "cell_type": "code",
   "execution_count": null,
   "metadata": {},
   "outputs": [],
   "source": [
    "# Common plot settings\n",
    "plt.style.use(\"seaborn-whitegrid\")  # set nice style\n",
    "# we assume the model maps are in the geographic CRS EPSG:4326\n",
    "proj = ccrs.PlateCarree()\n",
    "\n",
    "# create nice elevation colormap\n",
    "c_dem = plt.cm.terrain(np.linspace(0.25, 1, 256))\n",
    "cmap = colors.LinearSegmentedColormap.from_list(\"dem\", c_dem)\n",
    "norm = colors.Normalize(vmin=0, vmax=2000)\n",
    "kwargs = dict(cmap=cmap, norm=norm)\n",
    "\n",
    "# legend settings\n",
    "legend_kwargs = dict(\n",
    "    title=\"Legend\",\n",
    "    loc=\"lower right\",\n",
    "    frameon=True,\n",
    "    framealpha=0.7,\n",
    "    edgecolor=\"k\",\n",
    "    facecolor=\"white\",\n",
    ")\n",
    "\n",
    "def add_legend_titles(ax, title, add_legend=True, projected=True):\n",
    "    ax.xaxis.set_visible(True)\n",
    "    ax.yaxis.set_visible(True)\n",
    "    if projected:\n",
    "        ax.set_xlabel(\"Easting [m]\")\n",
    "        ax.set_ylabel(\"Northing [m]\")\n",
    "    else:\n",
    "        ax.set_ylabel(\"latitude [degree north]\")\n",
    "        ax.set_xlabel(\"longitude [degree east]\")\n",
    "    _ = ax.set_title(title)\n",
    "    if add_legend:\n",
    "        legend = ax.legend(**legend_kwargs)\n",
    "\n",
    "        return legend"
   ]
  },
  {
   "attachments": {},
   "cell_type": "markdown",
   "metadata": {},
   "source": [
    "### Elevation data and reprojection"
   ]
  },
  {
   "attachments": {},
   "cell_type": "markdown",
   "metadata": {},
   "source": [
    "In this example we will use the `merit_hydro_1k` data in the pre-defined `artifact_data` catalog of HydroMT. \n",
    "\n",
    "If you prefer to have a Wflow model in projected coordinate system (CRS in metres), you will need first to reproject the DEM and we will see here an example of how to do this.\n",
    "\n",
    "First let's read the data:"
   ]
  },
  {
   "cell_type": "code",
   "execution_count": null,
   "metadata": {},
   "outputs": [],
   "source": [
    "data_catalog = DataCatalog(\"artifact_data\")\n",
    "merit = data_catalog.get_rasterdataset(\"merit_hydro_1k\", bbox = [11.8,46.0,12.3,46.2])"
   ]
  },
  {
   "cell_type": "code",
   "execution_count": null,
   "metadata": {},
   "outputs": [],
   "source": [
    "# plot\n",
    "# initialize image with geoaxes\n",
    "fig = plt.figure(figsize=(10,8))\n",
    "ax = fig.add_subplot(projection=proj)\n",
    "\n",
    "## plot elevation\\\n",
    "merit['elevtn'].plot(\n",
    "    transform=proj, ax=ax, zorder=1, cbar_kwargs=dict(aspect=30, shrink=0.8), **kwargs\n",
    ")\n",
    "\n",
    "# plot flwdir\n",
    "flwdir = flw.flwdir_from_da(merit[\"flwdir\"], ftype=\"infer\", check_ftype=True)\n",
    "feat = flwdir.streams()\n",
    "gdf = gpd.GeoDataFrame.from_features(feat, crs=merit.raster.crs)\n",
    "gdf.plot(ax=ax, color=\"blue\", linewidth=0.5, zorder=2, label=\"Flow directions\")\n",
    "\n",
    "legend = add_legend_titles(ax, \"MERIT Hydro IHU 1km\", projected=False)"
   ]
  },
  {
   "attachments": {},
   "cell_type": "markdown",
   "metadata": {},
   "source": [
    "And now let's reproject the DEM to the projected CRS EPSG 3857 using [hydromt.DataArray.raster.reproject](https://deltares.github.io/hydromt/latest/_generated/hydromt.DataArray.raster.reproject.html#hydromt.DataArray.raster.reproject) method."
   ]
  },
  {
   "cell_type": "code",
   "execution_count": null,
   "metadata": {},
   "outputs": [],
   "source": [
    "merit_elv_utm = merit[\"elevtn\"].raster.reproject(\n",
    "    dst_crs=3857,\n",
    "    dst_res = None, # keep the same resolution\n",
    "    method = 'bilinear',\n",
    ")"
   ]
  },
  {
   "attachments": {},
   "cell_type": "markdown",
   "metadata": {},
   "source": [
    "### Reprojecting flow directions"
   ]
  },
  {
   "attachments": {},
   "cell_type": "markdown",
   "metadata": {},
   "source": [
    "If your original data did contain flow directions, you can decide to reproject rather than re-create them from the reprojected DEM.\n",
    "\n",
    "To do this, you can use the [hydromt.flw.reproject_hydrography_like](https://deltares.github.io/hydromt/latest/_generated/hydromt.flw.reproject_hydrography_like.html#hydromt.flw.reproject_hydrography_like) method from HydroMT.\n",
    "\n",
    "This method aims to conserve flow direction during reprojection by deriving flwdir from a reprojected grid of synthetic elevation, based on the log10  of upstream area [m2]."
   ]
  },
  {
   "cell_type": "code",
   "execution_count": null,
   "metadata": {},
   "outputs": [],
   "source": [
    "merit_utm_reproj = flw.reproject_hydrography_like(\n",
    "    ds_hydro = merit[[\"flwdir\", \"uparea\"]],\n",
    "    da_elv = merit_elv_utm,\n",
    ")"
   ]
  },
  {
   "attachments": {},
   "cell_type": "markdown",
   "metadata": {},
   "source": [
    "Let's compare our new reprojected flow directions to the original ones"
   ]
  },
  {
   "cell_type": "code",
   "execution_count": null,
   "metadata": {},
   "outputs": [],
   "source": [
    "# plot\n",
    "# initialize image with geoaxes\n",
    "fig = plt.figure(figsize=(10,8))\n",
    "ax = fig.add_subplot()\n",
    "\n",
    "## plot elevation\\\n",
    "merit_elv_utm.plot(\n",
    "    ax=ax, zorder=1, cbar_kwargs=dict(aspect=30, shrink=0.8), **kwargs\n",
    ")\n",
    "\n",
    "# plot flwdir\n",
    "flwdir = flw.flwdir_from_da(merit[\"flwdir\"], ftype=\"infer\", check_ftype=True)\n",
    "feat = flwdir.streams(min_sto=2)\n",
    "gdf = gpd.GeoDataFrame.from_features(feat, crs=merit.raster.crs)\n",
    "gdf.to_crs(merit_elv_utm.raster.crs).plot(ax=ax, column=\"strord\", cmap=colors.ListedColormap(cm.Blues(np.linspace(0.4, 1, 7))), label=\"Flow directions\")\n",
    "\n",
    "# plot flwdir reproj\n",
    "flwdirr = flw.flwdir_from_da(merit_utm_reproj[\"flwdir\"], ftype=\"infer\", check_ftype=True)\n",
    "featr = flwdirr.streams(min_sto=2)\n",
    "gdfr = gpd.GeoDataFrame.from_features(featr, crs=merit_utm_reproj.raster.crs)\n",
    "gdfr.plot(ax=ax, column=\"strord\", cmap=colors.ListedColormap(cm.Reds(np.linspace(0.4, 1, 7))), label=\"Flow directions reprojected\")\n",
    "\n",
    "legend = add_legend_titles(ax, \"MERIT Hydro IHU 1km Reprojected\")"
   ]
  },
  {
   "attachments": {},
   "cell_type": "markdown",
   "metadata": {},
   "source": [
    "### Deriving flow directions from DEM"
   ]
  },
  {
   "attachments": {},
   "cell_type": "markdown",
   "metadata": {},
   "source": [
    "To derive flow directions from a DEM, you can use the [hydromt.flw.d8_from_dem](https://deltares.github.io/hydromt/latest/_generated/hydromt.flw.d8_from_dem.html#hydromt.flw.d8_from_dem) method of HydroMT.\n",
    "\n",
    "This method derives D8 flow directions grid from an elevation grid and allows several options to the users:\n",
    " - **outlets**: outlets can be defined at ``edge``s of the grid or force all flow to go to the minimum elevation point ``min``. Additionnally, the user can also specify the pits locations via ``idxs_pit``.\n",
    " - **river burning**: it is possible to provide a river vector layer ``gdf_stream`` with ``uparea`` (km2) column which is used to burn the river in the elevation data.\n",
    " - **depression filling**: local depressions are filled based on their lowest pour point level if the pour point depth is smaller than the maximum pour point depth ``max_depth``, otherwise the lowest elevation in the depression becomes a pit.\n",
    "\n",
    "Let's see an example:"
   ]
  },
  {
   "cell_type": "code",
   "execution_count": null,
   "metadata": {},
   "outputs": [],
   "source": [
    "# Start a merit_utm dataset\n",
    "merit_utm_flw = merit_elv_utm.to_dataset(name=\"elevtn\")\n",
    "# Derive flow directions with outlets at the edges\n",
    "merit_utm_flw[\"flwdir_edge\"] = flw.d8_from_dem(\n",
    "    da_elv = merit_elv_utm,\n",
    "    gdf_stream = None,\n",
    "    max_depth=-1,\n",
    "    outlets = \"edge\",\n",
    "    idxs_pit = None,\n",
    ")\n",
    "# Derive flow directions with outlet at the min elevation edge cell\n",
    "merit_utm_flw[\"flwdir_min\"] = flw.d8_from_dem(\n",
    "    da_elv = merit_elv_utm,\n",
    "    gdf_stream = None,\n",
    "    max_depth=-1,\n",
    "    outlets = \"min\",\n",
    "    idxs_pit = None,\n",
    ")"
   ]
  },
  {
   "attachments": {},
   "cell_type": "markdown",
   "metadata": {},
   "source": [
    "Let's plot all the different methods"
   ]
  },
  {
   "cell_type": "code",
   "execution_count": null,
   "metadata": {},
   "outputs": [],
   "source": [
    "# plot\n",
    "# initialize image with geoaxes\n",
    "fig = plt.figure(figsize=(10,8))\n",
    "ax = fig.add_subplot()\n",
    "\n",
    "## plot elevation\\\n",
    "merit_elv_utm.plot(\n",
    "    ax=ax, zorder=1, cbar_kwargs=dict(aspect=30, shrink=0.8), alpha=0.5, **kwargs\n",
    ")\n",
    "\n",
    "# plot flwdir\n",
    "flwdir = flw.flwdir_from_da(merit[\"flwdir\"], ftype=\"infer\", check_ftype=True)\n",
    "feat = flwdir.streams(min_sto=2)\n",
    "gdf = gpd.GeoDataFrame.from_features(feat, crs=merit.raster.crs)\n",
    "gdf.to_crs(merit_elv_utm.raster.crs).plot(ax=ax, column=\"strord\", cmap=colors.ListedColormap(cm.Blues(np.linspace(0.4, 1, 7))), label=\"Flow directions\")\n",
    "\n",
    "# plot flwdir reproj\n",
    "flwdirr = flw.flwdir_from_da(merit_utm_reproj[\"flwdir\"], ftype=\"infer\", check_ftype=True)\n",
    "featr = flwdirr.streams(min_sto=2)\n",
    "gdfr = gpd.GeoDataFrame.from_features(featr, crs=merit_utm_reproj.raster.crs)\n",
    "gdfr.plot(ax=ax, column=\"strord\", cmap=colors.ListedColormap(cm.Reds(np.linspace(0.4, 1, 7))), label=\"Flow directions reprojected\")\n",
    "\n",
    "# plot flwdir edge\n",
    "flwdir_edge = flw.flwdir_from_da(merit_utm_flw[\"flwdir_edge\"], ftype=\"infer\", check_ftype=True)\n",
    "feate = flwdir_edge.streams(min_sto=2)\n",
    "gdfe = gpd.GeoDataFrame.from_features(feate, crs=merit_utm_flw.raster.crs)\n",
    "gdfe.plot(ax=ax, column=\"strord\", cmap=colors.ListedColormap(cm.Greens(np.linspace(0.4, 1, 7))), label=\"Flow directions edge\")\n",
    "\n",
    "# plot flwdir min\n",
    "flwdir_min = flw.flwdir_from_da(merit_utm_flw[\"flwdir_min\"], ftype=\"infer\", check_ftype=True)\n",
    "featm = flwdir_min.streams(min_sto=2)\n",
    "gdfm = gpd.GeoDataFrame.from_features(featm, crs=merit_utm_flw.raster.crs)\n",
    "gdfm.plot(ax=ax, column=\"strord\", cmap=colors.ListedColormap(cm.Purples(np.linspace(0.4, 1, 7))), label=\"Flow directions min\")\n",
    "\n",
    "legend = add_legend_titles(ax, \"MERIT Hydro IHU 1km Reprojected\")"
   ]
  },
  {
   "attachments": {},
   "cell_type": "markdown",
   "metadata": {},
   "source": [
    "Now let's see an example where we want to burn rivers.\n",
    "In the data artifact, we have one river vector database : ``rivers_lin2019_v1``.\n",
    "\n",
    "Let's use it for burning."
   ]
  },
  {
   "cell_type": "code",
   "execution_count": null,
   "metadata": {},
   "outputs": [],
   "source": [
    "# Read the data from data catalog\n",
    "rivers = data_catalog.get_geodataframe(\"rivers_lin2019_v1\", bbox=[11.8,46.0,12.3,46.2])\n",
    "\n",
    "# In this dataset, there is an Area column representing upstream area in km2\n",
    "# We need to rename it to uparea\n",
    "rivers = rivers.rename(columns={\"Area\": \"uparea\"})\n",
    "# And finally make sure rivers is reprojected to the same CRS as the elevation\n",
    "rivers = rivers.to_crs(merit_elv_utm.raster.crs)\n",
    "\n",
    "# Now let's use it to derive flow directions\n",
    "merit_utm_flw[\"flwdir_riverburn\"] = flw.d8_from_dem(\n",
    "    da_elv = merit_elv_utm,\n",
    "    gdf_stream = rivers,\n",
    "    max_depth=-1,\n",
    "    outlets = \"edge\",\n",
    "    idxs_pit = None,\n",
    ")"
   ]
  },
  {
   "cell_type": "code",
   "execution_count": null,
   "metadata": {},
   "outputs": [],
   "source": [
    "# plot\n",
    "# initialize image with geoaxes\n",
    "fig = plt.figure(figsize=(10,8))\n",
    "ax = fig.add_subplot()\n",
    "\n",
    "## plot elevation\\\n",
    "merit_elv_utm.plot(\n",
    "    ax=ax, zorder=1, cbar_kwargs=dict(aspect=30, shrink=0.8), alpha=0.5, **kwargs\n",
    ")\n",
    "\n",
    "# plot flwdir\n",
    "flwdir = flw.flwdir_from_da(merit[\"flwdir\"], ftype=\"infer\", check_ftype=True)\n",
    "feat = flwdir.streams(min_sto=2)\n",
    "gdf = gpd.GeoDataFrame.from_features(feat, crs=merit.raster.crs)\n",
    "gdf.to_crs(merit_elv_utm.raster.crs).plot(ax=ax, column=\"strord\", cmap=colors.ListedColormap(cm.Blues(np.linspace(0.4, 1, 7))), label=\"Flow directions\")\n",
    "\n",
    "# plot flwdir reproj\n",
    "flwdirr = flw.flwdir_from_da(merit_utm_reproj[\"flwdir\"], ftype=\"infer\", check_ftype=True)\n",
    "featr = flwdirr.streams(min_sto=2)\n",
    "gdfr = gpd.GeoDataFrame.from_features(featr, crs=merit_utm_reproj.raster.crs)\n",
    "gdfr.plot(ax=ax, column=\"strord\", cmap=colors.ListedColormap(cm.Reds(np.linspace(0.4, 1, 7))), label=\"Flow directions reprojected\")\n",
    "\n",
    "# plot flwdir edge\n",
    "flwdir_edge = flw.flwdir_from_da(merit_utm_flw[\"flwdir_edge\"], ftype=\"infer\", check_ftype=True)\n",
    "feate = flwdir_edge.streams(min_sto=2)\n",
    "gdfe = gpd.GeoDataFrame.from_features(feate, crs=merit_utm_flw.raster.crs)\n",
    "gdfe.plot(ax=ax, column=\"strord\", cmap=colors.ListedColormap(cm.Greens(np.linspace(0.4, 1, 7))), label=\"Flow directions edge\")\n",
    "\n",
    "# plot flwdir riverburn\n",
    "flwdir_min = flw.flwdir_from_da(merit_utm_flw[\"flwdir_riverburn\"], ftype=\"infer\", check_ftype=True)\n",
    "featm = flwdir_min.streams(min_sto=2)\n",
    "gdfm = gpd.GeoDataFrame.from_features(featm, crs=merit_utm_flw.raster.crs)\n",
    "gdfm.plot(ax=ax, column=\"strord\", cmap=colors.ListedColormap(cm.Purples(np.linspace(0.4, 1, 7))), label=\"Flow directions river burning\")\n",
    "\n",
    "rivers.plot(ax=ax, color=\"black\", label=\"Rivers Lin\")\n",
    "\n",
    "legend = add_legend_titles(ax, \"MERIT Hydro IHU 1km Reprojected\")"
   ]
  },
  {
   "attachments": {},
   "cell_type": "markdown",
   "metadata": {},
   "source": [
    "## Deriving other DEM and flow directions related data"
   ]
  },
  {
   "attachments": {},
   "cell_type": "markdown",
   "metadata": {},
   "source": [
    "Once you are satisfied with your flow direction map, you can create additionnal derived variables like upstream area or streamorder that can prove useful for example to build a model based on ``subbasin`` region.\n",
    "\n",
    "Here are some examples how to do that using PyFlwdir methods."
   ]
  },
  {
   "cell_type": "code",
   "execution_count": null,
   "metadata": {},
   "outputs": [],
   "source": [
    "# Create a dataset with the riverburn flow directions\n",
    "merit_utm = merit_elv_utm.to_dataset(name=\"elevtn\")\n",
    "merit_utm[\"flwdir\"] = merit_utm_flw[\"flwdir_riverburn\"]\n",
    "dims = merit_utm.raster.dims\n",
    "\n",
    "# Create a PyFlwDir object from the dataset\n",
    "flwdir = flw.flwdir_from_da(merit_utm[\"flwdir\"])\n",
    "\n",
    "# uparea\n",
    "uparea = flwdir.upstream_area(unit=\"km2\")\n",
    "merit_utm[\"uparea\"] = xr.Variable(dims, uparea, attrs=dict(_FillValue=-9999))\n",
    "\n",
    "# stream order\n",
    "strord = flwdir.stream_order()\n",
    "merit_utm[\"strord\"] = xr.Variable(dims, strord)\n",
    "merit_utm[\"strord\"].raster.set_nodata(255)\n",
    "\n",
    "# slope\n",
    "slope = pyflwdir.dem.slope(\n",
    "    elevtn=merit_utm[\"elevtn\"].values,\n",
    "    nodata = merit_utm[\"elevtn\"].raster.nodata,\n",
    "    latlon = False, # True if geographic crs, False if projected crs\n",
    "    transform = merit_utm[\"elevtn\"].raster.transform,\n",
    ")\n",
    "merit_utm[\"slope\"] = xr.Variable(dims, slope)\n",
    "merit_utm[\"slope\"].raster.set_nodata(merit_utm[\"elevtn\"].raster.nodata)\n",
    "\n",
    "# basin at the pits locations\n",
    "basins = flwdir.basins(idxs=flwdir.idxs_pit).astype(np.int32)\n",
    "merit_utm[\"basins\"] = xr.Variable(dims, basins, attrs=dict(_FillValue=0))\n",
    "\n",
    "merit_utm"
   ]
  },
  {
   "cell_type": "code",
   "execution_count": null,
   "metadata": {},
   "outputs": [],
   "source": [
    "# plot\n",
    "fig, axes = plt.subplots(3, 2, figsize=(15, 15))\n",
    "\n",
    "## plot elevation\n",
    "merit_utm[\"elevtn\"].plot(\n",
    "    ax=axes[0,0], zorder=1, cbar_kwargs=dict(aspect=30, shrink=0.8), alpha=0.5, **kwargs\n",
    ")\n",
    "_ = add_legend_titles(axes[0,0], \"Elevation [m asl]\", add_legend=False)\n",
    "\n",
    "# plot flwdir riverburn\n",
    "flwdir = flw.flwdir_from_da(merit_utm[\"flwdir\"], ftype=\"infer\", check_ftype=True)\n",
    "feat = flwdir.streams(min_sto=2)\n",
    "gdf = gpd.GeoDataFrame.from_features(feat, crs=merit_utm.raster.crs)\n",
    "gdf.to_crs(merit_elv_utm.raster.crs).plot(ax=axes[0,1], column=\"strord\", cmap=colors.ListedColormap(cm.Blues(np.linspace(0.4, 1, 7))), label=\"Flow directions\")\n",
    "_ = add_legend_titles(axes[0,1], \"Flow directions\", add_legend=False)\n",
    "\n",
    "# plot uparea\n",
    "merit_utm[\"uparea\"].plot(ax=axes[1,0])\n",
    "_ = add_legend_titles(axes[1,0], \"Upstream area [km2]\", add_legend=False)\n",
    "\n",
    "# plot strord\n",
    "merit_utm[\"strord\"].plot(ax=axes[1,1], cmap=colors.ListedColormap(cm.Blues(np.linspace(0.4, 1, 7))))\n",
    "_ = add_legend_titles(axes[1,1], \"Strahler Stream order\", add_legend=False)\n",
    "\n",
    "# plot slope\n",
    "merit_utm[\"slope\"].plot(ax=axes[2,0])\n",
    "_ = add_legend_titles(axes[2,0], \"Slope [m/m]\", add_legend=False)\n",
    "\n",
    "# plot basins\n",
    "merit_utm[\"basins\"].plot(ax=axes[2,1])\n",
    "_ = add_legend_titles(axes[2,1], \"Basins ID\", add_legend=False)\n"
   ]
  }
 ],
 "metadata": {
  "kernelspec": {
   "display_name": "hydromt-wflow",
   "language": "python",
   "name": "python3"
  },
  "language_info": {
   "codemirror_mode": {
    "name": "ipython",
    "version": 3
   },
   "file_extension": ".py",
   "mimetype": "text/x-python",
   "name": "python",
   "nbconvert_exporter": "python",
   "pygments_lexer": "ipython3",
   "version": "3.11.3"
  },
  "orig_nbformat": 4
 },
 "nbformat": 4,
 "nbformat_minor": 2
}
