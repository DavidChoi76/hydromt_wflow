{
 "cells": [
  {
   "cell_type": "markdown",
   "metadata": {},
   "source": [
    "## Plot Wflow forcing"
   ]
  },
  {
   "cell_type": "markdown",
   "metadata": {},
   "source": [
    "**hydroMT** provides a simple interface to model forcing data from which we can make beautiful plots:\n",
    "\n",
    "- Forcing model layers are saved to model `forcing` attribute as a `dict` of `xarray.DataArray`"
   ]
  },
  {
   "cell_type": "markdown",
   "metadata": {},
   "source": [
    "### Load dependencies"
   ]
  },
  {
   "cell_type": "code",
   "execution_count": null,
   "metadata": {},
   "outputs": [],
   "source": [
    "import pandas as pd\n",
    "import xarray as xr\n",
    "import numpy as  np\n",
    "from os.path import join, dirname\n",
    "import os\n",
    "import matplotlib.pyplot as plt\n",
    "import matplotlib as mpl\n",
    "from matplotlib import cm, colors"
   ]
  },
  {
   "cell_type": "code",
   "execution_count": null,
   "metadata": {},
   "outputs": [],
   "source": [
    "import hydromt"
   ]
  },
  {
   "cell_type": "markdown",
   "metadata": {},
   "source": [
    "### Read the model"
   ]
  },
  {
   "cell_type": "code",
   "execution_count": null,
   "metadata": {},
   "outputs": [],
   "source": [
    "root = 'wflow_piave_subbasin' \n",
    "mod = hydromt.WflowModel(root, mode='r')"
   ]
  },
  {
   "cell_type": "markdown",
   "metadata": {},
   "source": [
    "### Plot model forcing"
   ]
  },
  {
   "cell_type": "markdown",
   "metadata": {},
   "source": [
    "Here we plot the model *basin average* forcing."
   ]
  },
  {
   "cell_type": "code",
   "execution_count": null,
   "metadata": {},
   "outputs": [],
   "source": [
    "# read wflow forcing; mask region outside the basin and compute the basin average\n",
    "# NOTE: only very limited forcing data is available from the artifacts\n",
    "ds_forcing = xr.merge(mod.forcing.values()).where(mod.staticmaps['wflow_subcatch']>0) \n",
    "ds_forcing = ds_forcing.mean(dim=[ds_forcing.raster.x_dim, ds_forcing.raster.y_dim])"
   ]
  },
  {
   "cell_type": "code",
   "execution_count": null,
   "metadata": {},
   "outputs": [],
   "source": [
    "# plot axes labels\n",
    "_ATTRS = {\n",
    "    \"precip\": {\"standard_name\": \"precipitation\", \"unit\": \"mm.day-1\", \"color\": 'darkblue'},\n",
    "    \"pet\": {\"standard_name\": \"potential evapotranspiration\", \"unit\": \"mm.day-1\", \"color\": 'purple'},\n",
    "    \"temp\": {\"standard_name\": \"temperature\", \"unit\": \"degree C\", \"color\": 'orange'},\n",
    "}"
   ]
  },
  {
   "cell_type": "code",
   "execution_count": null,
   "metadata": {},
   "outputs": [],
   "source": [
    "plt.style.use('seaborn') # set nice style\n",
    "\n",
    "n = len(ds_forcing.data_vars)\n",
    "kwargs0 = dict(sharex=True, figsize=(6, n * 3))\n",
    "\n",
    "fig, axes = plt.subplots(n, 1, **kwargs0)\n",
    "axes = [axes] if n == 1 else axes\n",
    "for i, name in enumerate(ds_forcing.data_vars):\n",
    "    df = ds_forcing[name].squeeze().to_series()\n",
    "    attrs = _ATTRS[name]\n",
    "    longname = attrs.get(\"standard_name\", \"\")\n",
    "    unit = attrs.get(\"unit\", \"\")\n",
    "    if name == 'precip':\n",
    "        axes[i].bar(df.index, df.values, facecolor=attrs['color'])\n",
    "    else:\n",
    "        df.plot.line(ax=axes[i], x=\"time\", color=attrs['color'])\n",
    "    axes[i].set_title(longname)\n",
    "    axes[i].set_ylabel(f'{longname}\\n[{unit}]')\n",
    "\n",
    "# save figure\n",
    "# fn_out = join(mod.root, \"figs\", \"forcing.png\")\n",
    "# plt.savefig(fn_out, dpi=225, bbox_inches=\"tight\")"
   ]
  }
 ],
 "metadata": {
  "kernelspec": {
   "display_name": "Python 3",
   "language": "python",
   "name": "python3"
  },
  "language_info": {
   "codemirror_mode": {
    "name": "ipython",
    "version": 3
   },
   "file_extension": ".py",
   "mimetype": "text/x-python",
   "name": "python",
   "nbconvert_exporter": "python",
   "pygments_lexer": "ipython3",
   "version": "3.9.2"
  }
 },
 "nbformat": 4,
 "nbformat_minor": 4
}
